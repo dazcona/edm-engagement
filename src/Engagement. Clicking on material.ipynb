{
 "cells": [
  {
   "cell_type": "markdown",
   "metadata": {},
   "source": [
    "# Engagement\n",
    "\n",
    "### Analyzing data from 2017/2018\n",
    "\n",
    "* Measuring whether students clicked on the resources suggested to them"
   ]
  },
  {
   "cell_type": "markdown",
   "metadata": {},
   "source": [
    "Importing libraries:"
   ]
  },
  {
   "cell_type": "code",
   "execution_count": 1,
   "metadata": {},
   "outputs": [],
   "source": [
    "import os\n",
    "import numpy as np\n",
    "import pandas as pd\n",
    "from scipy.stats import ttest_ind\n",
    "from datetime import datetime\n",
    "import matplotlib.pyplot as plt\n",
    "%matplotlib inline"
   ]
  },
  {
   "cell_type": "code",
   "execution_count": 2,
   "metadata": {},
   "outputs": [],
   "source": [
    "font = { 'family': 'DejaVu Sans', 'weight': 'bold', 'size': 22 }\n",
    "plt.rc('font', **font)"
   ]
  },
  {
   "cell_type": "markdown",
   "metadata": {},
   "source": [
    "Data path:"
   ]
  },
  {
   "cell_type": "code",
   "execution_count": 3,
   "metadata": {},
   "outputs": [],
   "source": [
    "data_path = '../data'"
   ]
  },
  {
   "cell_type": "markdown",
   "metadata": {},
   "source": [
    "Grades:"
   ]
  },
  {
   "cell_type": "code",
   "execution_count": 4,
   "metadata": {},
   "outputs": [],
   "source": [
    "df_grades = pd.read_json(os.path.join(data_path, 'grades.json'))"
   ]
  },
  {
   "cell_type": "code",
   "execution_count": 5,
   "metadata": {
    "scrolled": true
   },
   "outputs": [
    {
     "data": {
      "text/plain": [
       "3217"
      ]
     },
     "execution_count": 5,
     "metadata": {},
     "output_type": "execute_result"
    }
   ],
   "source": [
    "len(df_grades)"
   ]
  },
  {
   "cell_type": "markdown",
   "metadata": {},
   "source": [
    "Web events:"
   ]
  },
  {
   "cell_type": "code",
   "execution_count": 6,
   "metadata": {},
   "outputs": [],
   "source": [
    "df_web = pd.read_csv('../data/web_data.csv')"
   ]
  },
  {
   "cell_type": "code",
   "execution_count": 7,
   "metadata": {},
   "outputs": [
    {
     "data": {
      "text/plain": [
       "25500773"
      ]
     },
     "execution_count": 7,
     "metadata": {},
     "output_type": "execute_result"
    }
   ],
   "source": [
    "len(df_web)"
   ]
  },
  {
   "cell_type": "code",
   "execution_count": 8,
   "metadata": {},
   "outputs": [],
   "source": [
    "df_web['date'] = pd.to_datetime(df_web['date'], format='%y%m%d-%H:%M.%S')"
   ]
  },
  {
   "cell_type": "code",
   "execution_count": 9,
   "metadata": {},
   "outputs": [
    {
     "data": {
      "text/plain": [
       "25500773"
      ]
     },
     "execution_count": 9,
     "metadata": {},
     "output_type": "execute_result"
    }
   ],
   "source": [
    "len(df_web)"
   ]
  },
  {
   "cell_type": "markdown",
   "metadata": {},
   "source": [
    "### Gain Index"
   ]
  },
  {
   "cell_type": "code",
   "execution_count": 10,
   "metadata": {},
   "outputs": [],
   "source": [
    "def gain_index(e1, e2):\n",
    "    return float(e2 - e1) / e1"
   ]
  },
  {
   "cell_type": "code",
   "execution_count": 11,
   "metadata": {},
   "outputs": [],
   "source": [
    "def normalized_gain_index(e1, e2):\n",
    "    if e1 == 0 and e2 == 0:\n",
    "        return 0\n",
    "    elif e1 == 0:\n",
    "        return 1\n",
    "    gi = gain_index(e1, e2)\n",
    "    if gi > 1:\n",
    "        return 1\n",
    "    return gi"
   ]
  },
  {
   "cell_type": "markdown",
   "metadata": {},
   "source": [
    "## Course: CA117, Academic year: 2017/2018"
   ]
  },
  {
   "cell_type": "code",
   "execution_count": 12,
   "metadata": {},
   "outputs": [],
   "source": [
    "_course = 'ca117'"
   ]
  },
  {
   "cell_type": "code",
   "execution_count": 13,
   "metadata": {},
   "outputs": [],
   "source": [
    "_academic_year = (2017, 2018)"
   ]
  },
  {
   "cell_type": "code",
   "execution_count": 14,
   "metadata": {},
   "outputs": [],
   "source": [
    "def get_grades(course, academic_year):\n",
    "    return df_grades[(df_grades['module'] == course) & \n",
    "                     (df_grades['academic_year_0'] == academic_year[0]) &\n",
    "                     (df_grades['academic_year_1'] == academic_year[1])].index"
   ]
  },
  {
   "cell_type": "code",
   "execution_count": 15,
   "metadata": {},
   "outputs": [],
   "source": [
    "grades_ca117 = df_grades.iloc[get_grades(_course, _academic_year)]"
   ]
  },
  {
   "cell_type": "code",
   "execution_count": 16,
   "metadata": {},
   "outputs": [
    {
     "data": {
      "text/plain": [
       "296"
      ]
     },
     "execution_count": 16,
     "metadata": {},
     "output_type": "execute_result"
    }
   ],
   "source": [
    "len(grades_ca117)"
   ]
  },
  {
   "cell_type": "code",
   "execution_count": 17,
   "metadata": {},
   "outputs": [],
   "source": [
    "student_names_ca117 = grades_ca117.user.unique()"
   ]
  },
  {
   "cell_type": "code",
   "execution_count": 18,
   "metadata": {},
   "outputs": [
    {
     "data": {
      "text/plain": [
       "148"
      ]
     },
     "execution_count": 18,
     "metadata": {},
     "output_type": "execute_result"
    }
   ],
   "source": [
    "len(student_names_ca117)"
   ]
  },
  {
   "cell_type": "code",
   "execution_count": 19,
   "metadata": {},
   "outputs": [],
   "source": [
    "exam_weeks_ca117 = sorted(grades_ca117.exam_week.unique())"
   ]
  },
  {
   "cell_type": "code",
   "execution_count": 20,
   "metadata": {},
   "outputs": [
    {
     "data": {
      "text/plain": [
       "[7, 12]"
      ]
     },
     "execution_count": 20,
     "metadata": {},
     "output_type": "execute_result"
    }
   ],
   "source": [
    "exam_weeks_ca117"
   ]
  },
  {
   "cell_type": "code",
   "execution_count": 21,
   "metadata": {},
   "outputs": [],
   "source": [
    "start = datetime(year=2017, month=9, day=1)\n",
    "end = datetime(year=2018, month=5, day=1)\n",
    "\n",
    "def get_web_events(course):\n",
    "    return df_web[(df_web['module'] == course) & \n",
    "                  (df_web['date'] > start) &\n",
    "                  (df_web['date'] < end) & \n",
    "                  (df_web['resource'].str.contains('predictcs=1'))].index"
   ]
  },
  {
   "cell_type": "code",
   "execution_count": 22,
   "metadata": {},
   "outputs": [],
   "source": [
    "web_ca117 = df_web.iloc[get_web_events(_course)]"
   ]
  },
  {
   "cell_type": "code",
   "execution_count": 23,
   "metadata": {},
   "outputs": [
    {
     "data": {
      "text/html": [
       "<div>\n",
       "<style scoped>\n",
       "    .dataframe tbody tr th:only-of-type {\n",
       "        vertical-align: middle;\n",
       "    }\n",
       "\n",
       "    .dataframe tbody tr th {\n",
       "        vertical-align: top;\n",
       "    }\n",
       "\n",
       "    .dataframe thead th {\n",
       "        text-align: right;\n",
       "    }\n",
       "</style>\n",
       "<table border=\"1\" class=\"dataframe\">\n",
       "  <thead>\n",
       "    <tr style=\"text-align: right;\">\n",
       "      <th></th>\n",
       "      <th>date</th>\n",
       "      <th>module</th>\n",
       "      <th>ip</th>\n",
       "      <th>resource</th>\n",
       "      <th>user</th>\n",
       "    </tr>\n",
       "  </thead>\n",
       "  <tbody>\n",
       "    <tr>\n",
       "      <th>16294432</th>\n",
       "      <td>2018-03-20 18:57:39</td>\n",
       "      <td>ca117</td>\n",
       "      <td>129.219.21.2</td>\n",
       "      <td>/html/week06/lab02/02_lab.html?predictcs=1</td>\n",
       "      <td>dazcona</td>\n",
       "    </tr>\n",
       "    <tr>\n",
       "      <th>16294443</th>\n",
       "      <td>2018-03-20 18:57:40</td>\n",
       "      <td>ca117</td>\n",
       "      <td>129.219.21.2</td>\n",
       "      <td>/einstein/get-credentials?predictcs=1</td>\n",
       "      <td>dazcona</td>\n",
       "    </tr>\n",
       "    <tr>\n",
       "      <th>16294444</th>\n",
       "      <td>2018-03-20 18:57:40</td>\n",
       "      <td>ca117</td>\n",
       "      <td>129.219.21.2</td>\n",
       "      <td>/einstein/get-task-status?predictcs=1</td>\n",
       "      <td>dazcona</td>\n",
       "    </tr>\n",
       "    <tr>\n",
       "      <th>16294457</th>\n",
       "      <td>2018-03-20 18:57:49</td>\n",
       "      <td>ca117</td>\n",
       "      <td>129.219.21.2</td>\n",
       "      <td>/html/week02/lecture03/03_references.html?pred...</td>\n",
       "      <td>dazcona</td>\n",
       "    </tr>\n",
       "    <tr>\n",
       "      <th>16294473</th>\n",
       "      <td>2018-03-20 18:57:50</td>\n",
       "      <td>ca117</td>\n",
       "      <td>129.219.21.2</td>\n",
       "      <td>/einstein/get-credentials?predictcs=1</td>\n",
       "      <td>dazcona</td>\n",
       "    </tr>\n",
       "  </tbody>\n",
       "</table>\n",
       "</div>"
      ],
      "text/plain": [
       "                        date module            ip  \\\n",
       "16294432 2018-03-20 18:57:39  ca117  129.219.21.2   \n",
       "16294443 2018-03-20 18:57:40  ca117  129.219.21.2   \n",
       "16294444 2018-03-20 18:57:40  ca117  129.219.21.2   \n",
       "16294457 2018-03-20 18:57:49  ca117  129.219.21.2   \n",
       "16294473 2018-03-20 18:57:50  ca117  129.219.21.2   \n",
       "\n",
       "                                                   resource     user  \n",
       "16294432         /html/week06/lab02/02_lab.html?predictcs=1  dazcona  \n",
       "16294443              /einstein/get-credentials?predictcs=1  dazcona  \n",
       "16294444              /einstein/get-task-status?predictcs=1  dazcona  \n",
       "16294457  /html/week02/lecture03/03_references.html?pred...  dazcona  \n",
       "16294473              /einstein/get-credentials?predictcs=1  dazcona  "
      ]
     },
     "execution_count": 23,
     "metadata": {},
     "output_type": "execute_result"
    }
   ],
   "source": [
    "web_ca117.head()"
   ]
  },
  {
   "cell_type": "code",
   "execution_count": 24,
   "metadata": {},
   "outputs": [
    {
     "data": {
      "text/plain": [
       "82"
      ]
     },
     "execution_count": 24,
     "metadata": {},
     "output_type": "execute_result"
    }
   ],
   "source": [
    "len(web_ca117)"
   ]
  },
  {
   "cell_type": "code",
   "execution_count": 25,
   "metadata": {},
   "outputs": [],
   "source": [
    "# web_ca117['user'].unique()"
   ]
  },
  {
   "cell_type": "code",
   "execution_count": 26,
   "metadata": {},
   "outputs": [
    {
     "data": {
      "text/plain": [
       "20"
      ]
     },
     "execution_count": 26,
     "metadata": {},
     "output_type": "execute_result"
    }
   ],
   "source": [
    "len(web_ca117['user'].unique())"
   ]
  },
  {
   "cell_type": "code",
   "execution_count": 27,
   "metadata": {},
   "outputs": [],
   "source": [
    "clicked_ca117 = [ username for username in web_ca117['user'].unique() if username in student_names_ca117 ]"
   ]
  },
  {
   "cell_type": "code",
   "execution_count": 28,
   "metadata": {},
   "outputs": [],
   "source": [
    "not_clicked_ca117 = [ username for username in student_names_ca117 if username not in clicked_ca117 ]"
   ]
  },
  {
   "cell_type": "code",
   "execution_count": 29,
   "metadata": {},
   "outputs": [
    {
     "data": {
      "text/plain": [
       "(19, 129)"
      ]
     },
     "execution_count": 29,
     "metadata": {},
     "output_type": "execute_result"
    }
   ],
   "source": [
    "len(clicked_ca117), len(not_clicked_ca117)"
   ]
  },
  {
   "cell_type": "code",
   "execution_count": 30,
   "metadata": {},
   "outputs": [],
   "source": [
    "click_dict_ca117 = {\n",
    "    'Clicked': clicked_ca117,\n",
    "    'Did-not-click': not_clicked_ca117,\n",
    "}"
   ]
  },
  {
   "cell_type": "code",
   "execution_count": 31,
   "metadata": {},
   "outputs": [],
   "source": [
    "THRESHOLD = 40\n",
    "\n",
    "def get_pass_fail_cohorts(student_names, exam_weeks, grades):\n",
    "\n",
    "    passing, failing = [], []\n",
    "    \n",
    "    first_exam = exam_weeks[0]\n",
    "\n",
    "    for student_name in student_names:\n",
    "\n",
    "        grade = 0\n",
    "        grade_index = grades[(grades['user'] == student_name) &\n",
    "                             (grades['exam_week'] == first_exam)].index\n",
    "        if len(grade_index) > 0:\n",
    "            grade = df_grades.iloc[grade_index[0]]['grade']\n",
    "\n",
    "        if grade >= THRESHOLD:\n",
    "            passing.append(student_name)\n",
    "        else:\n",
    "            failing.append(student_name)\n",
    "\n",
    "    return passing, failing"
   ]
  },
  {
   "cell_type": "code",
   "execution_count": 32,
   "metadata": {},
   "outputs": [],
   "source": [
    "passing_ca117, failing_ca117 = get_pass_fail_cohorts(student_names_ca117, exam_weeks_ca117, grades_ca117)"
   ]
  },
  {
   "cell_type": "code",
   "execution_count": 33,
   "metadata": {},
   "outputs": [],
   "source": [
    "pass_fail_dict_ca117 = {\n",
    "    'Pass': passing_ca117,\n",
    "    'Fail': failing_ca117,\n",
    "}"
   ]
  },
  {
   "cell_type": "code",
   "execution_count": 34,
   "metadata": {},
   "outputs": [],
   "source": [
    "def get_improvement(student_names, exam_weeks, grades, debug=False):\n",
    "    \n",
    "    marks = {}\n",
    "    normgi = {}\n",
    "    diff = {}\n",
    "    \n",
    "    for student_name in student_names:\n",
    "        \n",
    "        prev = None\n",
    "        improvement = None\n",
    "        \n",
    "        for exam_week in exam_weeks:\n",
    "            \n",
    "            grade = 0\n",
    "            grade_index = grades[(grades['user'] == student_name) &\n",
    "                                 (grades['exam_week'] == exam_week)].index\n",
    "            if len(grade_index) > 0:\n",
    "                grade = df_grades.iloc[grade_index[0]]['grade']\n",
    "                \n",
    "            marks.setdefault(exam_week, {})\n",
    "            marks[exam_week][student_name] = grade\n",
    "            \n",
    "            if debug: print('Student: {}, Exam week: {}, Grade: {}'.format(student_name, exam_week, grade))\n",
    "            \n",
    "            if prev is not None:\n",
    "                improvement = normalized_gain_index(prev, grade)\n",
    "                if debug: print('Student: {}, Improvement: {:.2f}'.format(student_name, improvement))\n",
    "                normgi[student_name] = improvement\n",
    "                diff[student_name] = grade - prev\n",
    "                \n",
    "            prev = grade\n",
    "            \n",
    "    return normgi, diff, marks"
   ]
  },
  {
   "cell_type": "code",
   "execution_count": 35,
   "metadata": {},
   "outputs": [],
   "source": [
    "normgi_ca117, diff_ca117, marks_ca117 = get_improvement(student_names_ca117, exam_weeks_ca117, grades_ca117)"
   ]
  },
  {
   "cell_type": "code",
   "execution_count": 36,
   "metadata": {},
   "outputs": [],
   "source": [
    "def evaluate(student_dict, normgi, diff, marks, exam_weeks):\n",
    "    \n",
    "    # Store improvements\n",
    "    d = {}\n",
    "    \n",
    "    for name, students in student_dict.items():\n",
    "        \n",
    "        num_students = len(students)\n",
    "        \n",
    "        print('Group: {} (# {})'.format(name, num_students))\n",
    "        \n",
    "        for exam_week in exam_weeks:\n",
    "            # Marks\n",
    "            mrks = [ value for student_name, value in marks[exam_week].items() if student_name in students ]    \n",
    "            # Avg\n",
    "            mrks_avg = np.mean(mrks)\n",
    "            # Std. deviation\n",
    "            mrks_std = np.std(mrks)\n",
    "            print('Marks Exam Week {}, Avg: {:.2f} ({:.2f})'.format(exam_week, mrks_avg, mrks_std))\n",
    "        \n",
    "        # Array of improvements\n",
    "        improvements = [ value for student_name, value in normgi.items() if student_name in students ]\n",
    "        d[name] = improvements\n",
    "        \n",
    "        # Avg\n",
    "        improv_avg = np.mean(improvements)\n",
    "        # Std. deviation\n",
    "        improv_std = np.std(improvements)\n",
    "        \n",
    "        # Differences\n",
    "        differences = [ value for student_name, value in diff.items() if student_name in students ]\n",
    "        \n",
    "        # Avg\n",
    "        diff_avg = np.mean(differences)\n",
    "        # Std. deviation\n",
    "        diff_std = np.std(differences)\n",
    "              \n",
    "        print('* Improvement Avg: {:.2f} ({:.2f}), Diff Avg: {:.2f} ({:.2f})'.format(\n",
    "            mrks_avg, mrks_std, improv_avg, improv_std, diff_avg, diff_std))\n",
    "        \n",
    "    # T-test\n",
    "    keys = list(student_dict.keys())\n",
    "    group_one = d[keys[0]]\n",
    "    group_two = d[keys[1]]\n",
    "    ttest = ttest_ind(group_one, group_two)\n",
    "    print(ttest)\n"
   ]
  },
  {
   "cell_type": "code",
   "execution_count": 37,
   "metadata": {},
   "outputs": [
    {
     "name": "stdout",
     "output_type": "stream",
     "text": [
      "Group: Pass (# 90)\n",
      "Marks Exam Week 7, Avg: 75.83 (20.90)\n",
      "Marks Exam Week 12, Avg: 55.11 (28.53)\n",
      "* Improvement Avg: 55.11 (28.53), Diff Avg: -0.28 (0.33)\n",
      "Group: Fail (# 58)\n",
      "Marks Exam Week 7, Avg: 12.93 (12.49)\n",
      "Marks Exam Week 12, Avg: 25.00 (26.08)\n",
      "* Improvement Avg: 25.00 (26.08), Diff Avg: 0.31 (0.67)\n",
      "Ttest_indResult(statistic=-7.084959708965068, pvalue=5.471969072357101e-11)\n"
     ]
    }
   ],
   "source": [
    "evaluate(pass_fail_dict_ca117, normgi_ca117, diff_ca117, marks_ca117, exam_weeks_ca117)"
   ]
  },
  {
   "cell_type": "code",
   "execution_count": 38,
   "metadata": {},
   "outputs": [
    {
     "name": "stdout",
     "output_type": "stream",
     "text": [
      "Group: Clicked (# 19)\n",
      "Marks Exam Week 7, Avg: 51.32 (39.30)\n",
      "Marks Exam Week 12, Avg: 53.16 (24.72)\n",
      "* Improvement Avg: 53.16 (24.72), Diff Avg: 0.22 (0.58)\n",
      "Group: Did-not-click (# 129)\n",
      "Marks Exam Week 7, Avg: 51.16 (35.06)\n",
      "Marks Exam Week 12, Avg: 41.86 (31.86)\n",
      "* Improvement Avg: 41.86 (31.86), Diff Avg: -0.09 (0.56)\n",
      "Ttest_indResult(statistic=2.1795780020810502, pvalue=0.030891715742672465)\n"
     ]
    }
   ],
   "source": [
    "evaluate(click_dict_ca117, normgi_ca117, diff_ca117, marks_ca117, exam_weeks_ca117)"
   ]
  },
  {
   "cell_type": "markdown",
   "metadata": {},
   "source": [
    "## Course: CA114, Academic year: 2017/2018"
   ]
  },
  {
   "cell_type": "code",
   "execution_count": 39,
   "metadata": {},
   "outputs": [],
   "source": [
    "_course = 'ca114'"
   ]
  },
  {
   "cell_type": "code",
   "execution_count": 40,
   "metadata": {},
   "outputs": [],
   "source": [
    "_academic_year = (2017, 2018)"
   ]
  },
  {
   "cell_type": "code",
   "execution_count": 41,
   "metadata": {},
   "outputs": [],
   "source": [
    "grades_ca114 = df_grades.iloc[get_grades(_course, _academic_year)]"
   ]
  },
  {
   "cell_type": "code",
   "execution_count": 42,
   "metadata": {},
   "outputs": [
    {
     "data": {
      "text/plain": [
       "132"
      ]
     },
     "execution_count": 42,
     "metadata": {},
     "output_type": "execute_result"
    }
   ],
   "source": [
    "len(grades_ca114)"
   ]
  },
  {
   "cell_type": "code",
   "execution_count": 43,
   "metadata": {},
   "outputs": [],
   "source": [
    "student_names_ca114 = grades_ca114.user.unique()"
   ]
  },
  {
   "cell_type": "code",
   "execution_count": 44,
   "metadata": {},
   "outputs": [
    {
     "data": {
      "text/plain": [
       "69"
      ]
     },
     "execution_count": 44,
     "metadata": {},
     "output_type": "execute_result"
    }
   ],
   "source": [
    "len(student_names_ca114)"
   ]
  },
  {
   "cell_type": "code",
   "execution_count": 45,
   "metadata": {},
   "outputs": [],
   "source": [
    "exam_weeks_ca114 = sorted(grades_ca114.exam_week.unique())"
   ]
  },
  {
   "cell_type": "code",
   "execution_count": 46,
   "metadata": {},
   "outputs": [
    {
     "data": {
      "text/plain": [
       "[6, 12]"
      ]
     },
     "execution_count": 46,
     "metadata": {},
     "output_type": "execute_result"
    }
   ],
   "source": [
    "exam_weeks_ca114"
   ]
  },
  {
   "cell_type": "code",
   "execution_count": 47,
   "metadata": {},
   "outputs": [],
   "source": [
    "web_ca114 = df_web.iloc[get_web_events(_course)]"
   ]
  },
  {
   "cell_type": "code",
   "execution_count": 48,
   "metadata": {},
   "outputs": [
    {
     "data": {
      "text/plain": [
       "47"
      ]
     },
     "execution_count": 48,
     "metadata": {},
     "output_type": "execute_result"
    }
   ],
   "source": [
    "len(web_ca114)"
   ]
  },
  {
   "cell_type": "code",
   "execution_count": 49,
   "metadata": {},
   "outputs": [
    {
     "data": {
      "text/plain": [
       "6"
      ]
     },
     "execution_count": 49,
     "metadata": {},
     "output_type": "execute_result"
    }
   ],
   "source": [
    "len(web_ca114['user'].unique())"
   ]
  },
  {
   "cell_type": "code",
   "execution_count": 50,
   "metadata": {},
   "outputs": [],
   "source": [
    "clicked_ca114 = [ username for username in web_ca114['user'].unique() if username in student_names_ca114 ]"
   ]
  },
  {
   "cell_type": "code",
   "execution_count": 51,
   "metadata": {},
   "outputs": [],
   "source": [
    "not_clicked_ca114 = [ username for username in student_names_ca114 if username not in clicked_ca114 ]"
   ]
  },
  {
   "cell_type": "code",
   "execution_count": 52,
   "metadata": {},
   "outputs": [
    {
     "data": {
      "text/plain": [
       "(4, 65)"
      ]
     },
     "execution_count": 52,
     "metadata": {},
     "output_type": "execute_result"
    }
   ],
   "source": [
    "len(clicked_ca114), len(not_clicked_ca114)"
   ]
  },
  {
   "cell_type": "code",
   "execution_count": 53,
   "metadata": {},
   "outputs": [],
   "source": [
    "click_dict_ca114 = {\n",
    "    'Clicked': clicked_ca114,\n",
    "    'Did-not-click': not_clicked_ca114,\n",
    "}"
   ]
  },
  {
   "cell_type": "code",
   "execution_count": 54,
   "metadata": {},
   "outputs": [],
   "source": [
    "passing_ca114, failing_ca114 = get_pass_fail_cohorts(student_names_ca114, exam_weeks_ca114, grades_ca114)"
   ]
  },
  {
   "cell_type": "code",
   "execution_count": 55,
   "metadata": {},
   "outputs": [],
   "source": [
    "pass_fail_dict_ca114 = {\n",
    "    'Pass': passing_ca114,\n",
    "    'Fail': failing_ca114,\n",
    "}"
   ]
  },
  {
   "cell_type": "code",
   "execution_count": 56,
   "metadata": {},
   "outputs": [],
   "source": [
    "normgi_ca114, diff_ca114, marks_ca114 = get_improvement(student_names_ca114, exam_weeks_ca114, grades_ca114)"
   ]
  },
  {
   "cell_type": "code",
   "execution_count": 57,
   "metadata": {},
   "outputs": [
    {
     "name": "stdout",
     "output_type": "stream",
     "text": [
      "Group: Pass (# 53)\n",
      "Marks Exam Week 6, Avg: 83.02 (21.60)\n",
      "Marks Exam Week 12, Avg: 79.62 (27.88)\n",
      "* Improvement Avg: 79.62 (27.88), Diff Avg: 0.04 (0.47)\n",
      "Group: Fail (# 16)\n",
      "Marks Exam Week 6, Avg: 10.94 (12.40)\n",
      "Marks Exam Week 12, Avg: 40.00 (36.74)\n",
      "* Improvement Avg: 40.00 (36.74), Diff Avg: 0.42 (0.71)\n",
      "Ttest_indResult(statistic=-2.505199313474727, pvalue=0.014675870144223974)\n"
     ]
    }
   ],
   "source": [
    "evaluate(pass_fail_dict_ca114, normgi_ca114, diff_ca114, marks_ca114, exam_weeks_ca114)"
   ]
  },
  {
   "cell_type": "code",
   "execution_count": 58,
   "metadata": {},
   "outputs": [
    {
     "name": "stdout",
     "output_type": "stream",
     "text": [
      "Group: Clicked (# 4)\n",
      "Marks Exam Week 6, Avg: 50.00 (30.62)\n",
      "Marks Exam Week 12, Avg: 90.00 (10.00)\n",
      "* Improvement Avg: 90.00 (10.00), Diff Avg: 0.70 (0.52)\n",
      "Group: Did-not-click (# 65)\n",
      "Marks Exam Week 6, Avg: 67.31 (36.41)\n",
      "Marks Exam Week 12, Avg: 69.23 (35.10)\n",
      "* Improvement Avg: 69.23 (35.10), Diff Avg: 0.09 (0.55)\n",
      "Ttest_indResult(statistic=2.1450540512839646, pvalue=0.03557755548452577)\n"
     ]
    }
   ],
   "source": [
    "evaluate(click_dict_ca114, normgi_ca114, diff_ca114, marks_ca114, exam_weeks_ca114)"
   ]
  },
  {
   "cell_type": "markdown",
   "metadata": {},
   "source": [
    "## Course: CA278, Academic year: 2017/2018"
   ]
  },
  {
   "cell_type": "code",
   "execution_count": 59,
   "metadata": {},
   "outputs": [],
   "source": [
    "_course = 'ca278'"
   ]
  },
  {
   "cell_type": "code",
   "execution_count": 60,
   "metadata": {},
   "outputs": [],
   "source": [
    "_academic_year = (2017, 2018)"
   ]
  },
  {
   "cell_type": "code",
   "execution_count": 61,
   "metadata": {},
   "outputs": [],
   "source": [
    "grades_ca278 = df_grades.iloc[get_grades(_course, _academic_year)]"
   ]
  },
  {
   "cell_type": "code",
   "execution_count": 62,
   "metadata": {},
   "outputs": [
    {
     "data": {
      "text/plain": [
       "160"
      ]
     },
     "execution_count": 62,
     "metadata": {},
     "output_type": "execute_result"
    }
   ],
   "source": [
    "len(grades_ca278)"
   ]
  },
  {
   "cell_type": "code",
   "execution_count": 63,
   "metadata": {},
   "outputs": [],
   "source": [
    "student_names_ca278 = grades_ca278.user.unique()"
   ]
  },
  {
   "cell_type": "code",
   "execution_count": 64,
   "metadata": {},
   "outputs": [
    {
     "data": {
      "text/plain": [
       "80"
      ]
     },
     "execution_count": 64,
     "metadata": {},
     "output_type": "execute_result"
    }
   ],
   "source": [
    "len(student_names_ca278)"
   ]
  },
  {
   "cell_type": "code",
   "execution_count": 65,
   "metadata": {},
   "outputs": [],
   "source": [
    "exam_weeks_ca278 = sorted(grades_ca278.exam_week.unique())"
   ]
  },
  {
   "cell_type": "code",
   "execution_count": 66,
   "metadata": {},
   "outputs": [
    {
     "data": {
      "text/plain": [
       "[6, 12]"
      ]
     },
     "execution_count": 66,
     "metadata": {},
     "output_type": "execute_result"
    }
   ],
   "source": [
    "exam_weeks_ca278"
   ]
  },
  {
   "cell_type": "code",
   "execution_count": 67,
   "metadata": {},
   "outputs": [],
   "source": [
    "web_ca278 = df_web.iloc[get_web_events(_course)]"
   ]
  },
  {
   "cell_type": "code",
   "execution_count": 68,
   "metadata": {},
   "outputs": [
    {
     "data": {
      "text/plain": [
       "24"
      ]
     },
     "execution_count": 68,
     "metadata": {},
     "output_type": "execute_result"
    }
   ],
   "source": [
    "len(web_ca278)"
   ]
  },
  {
   "cell_type": "code",
   "execution_count": 69,
   "metadata": {},
   "outputs": [
    {
     "data": {
      "text/plain": [
       "5"
      ]
     },
     "execution_count": 69,
     "metadata": {},
     "output_type": "execute_result"
    }
   ],
   "source": [
    "len(web_ca278['user'].unique())"
   ]
  },
  {
   "cell_type": "code",
   "execution_count": 70,
   "metadata": {},
   "outputs": [],
   "source": [
    "clicked_ca278 = [ username for username in web_ca278['user'].unique() if username in student_names_ca278 ]"
   ]
  },
  {
   "cell_type": "code",
   "execution_count": 71,
   "metadata": {},
   "outputs": [],
   "source": [
    "not_clicked_ca278 = [ username for username in student_names_ca278 if username not in clicked_ca278 ]"
   ]
  },
  {
   "cell_type": "code",
   "execution_count": 72,
   "metadata": {},
   "outputs": [
    {
     "data": {
      "text/plain": [
       "(5, 75)"
      ]
     },
     "execution_count": 72,
     "metadata": {},
     "output_type": "execute_result"
    }
   ],
   "source": [
    "len(clicked_ca278), len(not_clicked_ca278)"
   ]
  },
  {
   "cell_type": "code",
   "execution_count": 73,
   "metadata": {},
   "outputs": [],
   "source": [
    "click_dict_ca278 = {\n",
    "    'Clicked': clicked_ca278,\n",
    "    'Did-not-click': not_clicked_ca278,\n",
    "}"
   ]
  },
  {
   "cell_type": "code",
   "execution_count": 74,
   "metadata": {},
   "outputs": [],
   "source": [
    "passing_ca278, failing_ca278 = get_pass_fail_cohorts(student_names_ca278, exam_weeks_ca278, grades_ca278)"
   ]
  },
  {
   "cell_type": "code",
   "execution_count": 75,
   "metadata": {},
   "outputs": [],
   "source": [
    "pass_fail_dict_ca278 = {\n",
    "    'Pass': passing_ca278,\n",
    "    'Fail': failing_ca278,\n",
    "}"
   ]
  },
  {
   "cell_type": "code",
   "execution_count": 76,
   "metadata": {},
   "outputs": [],
   "source": [
    "normgi_ca278, diff_ca278, marks_ca278 = get_improvement(student_names_ca278, exam_weeks_ca278, grades_ca278)"
   ]
  },
  {
   "cell_type": "code",
   "execution_count": 77,
   "metadata": {},
   "outputs": [
    {
     "name": "stdout",
     "output_type": "stream",
     "text": [
      "Group: Pass (# 70)\n",
      "Marks Exam Week 6, Avg: 69.06 (16.34)\n",
      "Marks Exam Week 12, Avg: 65.99 (17.24)\n",
      "* Improvement Avg: 65.99 (17.24), Diff Avg: -0.01 (0.27)\n",
      "Group: Fail (# 10)\n",
      "Marks Exam Week 6, Avg: 31.90 (10.71)\n",
      "Marks Exam Week 12, Avg: 50.00 (22.03)\n",
      "* Improvement Avg: 50.00 (22.03), Diff Avg: 0.47 (0.37)\n",
      "Ttest_indResult(statistic=-5.0117275577021765, pvalue=3.2916885808771503e-06)\n"
     ]
    }
   ],
   "source": [
    "evaluate(pass_fail_dict_ca278, normgi_ca278, diff_ca278, marks_ca278, exam_weeks_ca278)"
   ]
  },
  {
   "cell_type": "code",
   "execution_count": 78,
   "metadata": {},
   "outputs": [
    {
     "name": "stdout",
     "output_type": "stream",
     "text": [
      "Group: Clicked (# 5)\n",
      "Marks Exam Week 6, Avg: 66.40 (21.14)\n",
      "Marks Exam Week 12, Avg: 60.00 (17.99)\n",
      "* Improvement Avg: 60.00 (17.99), Diff Avg: -0.08 (0.14)\n",
      "Group: Did-not-click (# 75)\n",
      "Marks Exam Week 6, Avg: 64.28 (19.89)\n",
      "Marks Exam Week 12, Avg: 64.25 (18.68)\n",
      "* Improvement Avg: 64.25 (18.68), Diff Avg: 0.05 (0.33)\n",
      "Ttest_indResult(statistic=-0.8522952755177757, pvalue=0.39665963396981385)\n"
     ]
    }
   ],
   "source": [
    "evaluate(click_dict_ca278, normgi_ca278, diff_ca278, marks_ca278, exam_weeks_ca278)"
   ]
  }
 ],
 "metadata": {
  "kernelspec": {
   "display_name": "Python 3",
   "language": "python",
   "name": "python3"
  },
  "language_info": {
   "codemirror_mode": {
    "name": "ipython",
    "version": 3
   },
   "file_extension": ".py",
   "mimetype": "text/x-python",
   "name": "python",
   "nbconvert_exporter": "python",
   "pygments_lexer": "ipython3",
   "version": "3.6.5"
  }
 },
 "nbformat": 4,
 "nbformat_minor": 2
}
