{
 "cells": [
  {
   "cell_type": "markdown",
   "metadata": {},
   "source": [
    "# Engagement\n",
    "\n",
    "### Analyzing data from 2016/2017\n",
    "\n",
    "* Introducing the Normalized Gain Index\n",
    "* Measuring whether students fix their programs or not"
   ]
  },
  {
   "cell_type": "markdown",
   "metadata": {},
   "source": [
    "Importing libraries:"
   ]
  },
  {
   "cell_type": "code",
   "execution_count": 1,
   "metadata": {},
   "outputs": [],
   "source": [
    "import os\n",
    "import numpy as np\n",
    "import pandas as pd\n",
    "from scipy.stats import ttest_ind\n",
    "import matplotlib.pyplot as plt\n",
    "%matplotlib inline"
   ]
  },
  {
   "cell_type": "code",
   "execution_count": 2,
   "metadata": {},
   "outputs": [],
   "source": [
    "font = { 'family': 'DejaVu Sans', 'weight': 'bold', 'size': 22 }\n",
    "plt.rc('font', **font)"
   ]
  },
  {
   "cell_type": "markdown",
   "metadata": {},
   "source": [
    "Data path:"
   ]
  },
  {
   "cell_type": "code",
   "execution_count": 3,
   "metadata": {},
   "outputs": [],
   "source": [
    "data_path = '../data'"
   ]
  },
  {
   "cell_type": "markdown",
   "metadata": {},
   "source": [
    "Grades:"
   ]
  },
  {
   "cell_type": "code",
   "execution_count": 4,
   "metadata": {},
   "outputs": [],
   "source": [
    "df_grades = pd.read_json(os.path.join(data_path, 'grades.json'))"
   ]
  },
  {
   "cell_type": "code",
   "execution_count": 5,
   "metadata": {
    "scrolled": true
   },
   "outputs": [
    {
     "data": {
      "text/plain": [
       "'3,217'"
      ]
     },
     "execution_count": 5,
     "metadata": {},
     "output_type": "execute_result"
    }
   ],
   "source": [
    "'{:,}'.format(len(df_grades))"
   ]
  },
  {
   "cell_type": "markdown",
   "metadata": {},
   "source": [
    "### List of students that fixed / did not fix their programs:"
   ]
  },
  {
   "cell_type": "code",
   "execution_count": 6,
   "metadata": {},
   "outputs": [],
   "source": [
    "from students import data"
   ]
  },
  {
   "cell_type": "markdown",
   "metadata": {},
   "source": [
    "### Gain Index"
   ]
  },
  {
   "cell_type": "code",
   "execution_count": 7,
   "metadata": {},
   "outputs": [],
   "source": [
    "def gain_index(e1, e2):\n",
    "    return float(e2 - e1) / e1"
   ]
  },
  {
   "cell_type": "code",
   "execution_count": 8,
   "metadata": {},
   "outputs": [],
   "source": [
    "def normalized_gain_index(e1, e2):\n",
    "    if e1 == 0 and e2 == 0:\n",
    "        return 0\n",
    "    elif e1 == 0:\n",
    "        return 1\n",
    "    gi = gain_index(e1, e2)\n",
    "    if gi > 1:\n",
    "        return 1\n",
    "    return gi"
   ]
  },
  {
   "cell_type": "code",
   "execution_count": 9,
   "metadata": {},
   "outputs": [
    {
     "data": {
      "text/plain": [
       "1"
      ]
     },
     "execution_count": 9,
     "metadata": {},
     "output_type": "execute_result"
    }
   ],
   "source": [
    "normalized_gain_index(0, 100)"
   ]
  },
  {
   "cell_type": "code",
   "execution_count": 10,
   "metadata": {},
   "outputs": [
    {
     "data": {
      "text/plain": [
       "-1.0"
      ]
     },
     "execution_count": 10,
     "metadata": {},
     "output_type": "execute_result"
    }
   ],
   "source": [
    "normalized_gain_index(100, 0)"
   ]
  },
  {
   "cell_type": "code",
   "execution_count": 11,
   "metadata": {},
   "outputs": [
    {
     "data": {
      "text/plain": [
       "1"
      ]
     },
     "execution_count": 11,
     "metadata": {},
     "output_type": "execute_result"
    }
   ],
   "source": [
    "normalized_gain_index(0, 50)"
   ]
  },
  {
   "cell_type": "code",
   "execution_count": 12,
   "metadata": {},
   "outputs": [
    {
     "data": {
      "text/plain": [
       "0.2"
      ]
     },
     "execution_count": 12,
     "metadata": {},
     "output_type": "execute_result"
    }
   ],
   "source": [
    "normalized_gain_index(50, 60)"
   ]
  },
  {
   "cell_type": "markdown",
   "metadata": {},
   "source": [
    "## Course: CA117, Academic year: 2016/2017"
   ]
  },
  {
   "cell_type": "code",
   "execution_count": 13,
   "metadata": {},
   "outputs": [],
   "source": [
    "_course = 'ca117'"
   ]
  },
  {
   "cell_type": "code",
   "execution_count": 14,
   "metadata": {},
   "outputs": [],
   "source": [
    "_academic_year = (2016, 2017)"
   ]
  },
  {
   "cell_type": "code",
   "execution_count": 15,
   "metadata": {},
   "outputs": [],
   "source": [
    "def get_grades(course, academic_year):\n",
    "    return df_grades[(df_grades['module'] == course) & \n",
    "                     (df_grades['academic_year_0'] == academic_year[0]) &\n",
    "                     (df_grades['academic_year_1'] == academic_year[1])].index"
   ]
  },
  {
   "cell_type": "code",
   "execution_count": 16,
   "metadata": {},
   "outputs": [],
   "source": [
    "grades_ca117 = df_grades.iloc[get_grades(_course, _academic_year)]"
   ]
  },
  {
   "cell_type": "code",
   "execution_count": 17,
   "metadata": {},
   "outputs": [],
   "source": [
    "student_names_ca117 = grades_ca117.user.unique()"
   ]
  },
  {
   "cell_type": "code",
   "execution_count": 18,
   "metadata": {},
   "outputs": [
    {
     "data": {
      "text/plain": [
       "140"
      ]
     },
     "execution_count": 18,
     "metadata": {},
     "output_type": "execute_result"
    }
   ],
   "source": [
    "len(student_names_ca117)"
   ]
  },
  {
   "cell_type": "code",
   "execution_count": 19,
   "metadata": {},
   "outputs": [],
   "source": [
    "exam_weeks_ca117 = sorted(grades_ca117.exam_week.unique())"
   ]
  },
  {
   "cell_type": "code",
   "execution_count": 20,
   "metadata": {},
   "outputs": [
    {
     "data": {
      "text/plain": [
       "[6, 12]"
      ]
     },
     "execution_count": 20,
     "metadata": {},
     "output_type": "execute_result"
    }
   ],
   "source": [
    "exam_weeks_ca117"
   ]
  },
  {
   "cell_type": "code",
   "execution_count": 21,
   "metadata": {},
   "outputs": [],
   "source": [
    "# df_grades.iloc[2536]"
   ]
  },
  {
   "cell_type": "code",
   "execution_count": 22,
   "metadata": {},
   "outputs": [],
   "source": [
    "def get_improvement(student_names, exam_weeks, grades, debug=False):\n",
    "    \n",
    "    marks = {}\n",
    "    normgi = {}\n",
    "    diff = {}\n",
    "    \n",
    "    for student_name in student_names:\n",
    "        \n",
    "        prev = None\n",
    "        improvement = None\n",
    "        \n",
    "        for exam_week in exam_weeks:\n",
    "            \n",
    "            grade = 0\n",
    "            grade_index = grades[(grades['user'] == student_name) &\n",
    "                                 (grades['exam_week'] == exam_week)].index\n",
    "            if len(grade_index) > 0:\n",
    "                grade = df_grades.iloc[grade_index[0]]['grade']\n",
    "                \n",
    "            marks.setdefault(exam_week, {})\n",
    "            marks[exam_week][student_name] = grade\n",
    "            \n",
    "            if debug: print('Student: {}, Exam week: {}, Grade: {}'.format(student_name, exam_week, grade))\n",
    "            \n",
    "            if prev is not None:\n",
    "                improvement = normalized_gain_index(prev, grade)\n",
    "                if debug: print('Student: {}, Improvement: {:.2f}'.format(student_name, improvement))\n",
    "                normgi[student_name] = improvement\n",
    "                diff[student_name] = grade - prev\n",
    "                \n",
    "            prev = grade\n",
    "            \n",
    "    return normgi, diff, marks"
   ]
  },
  {
   "cell_type": "code",
   "execution_count": 23,
   "metadata": {
    "scrolled": true
   },
   "outputs": [],
   "source": [
    "normgi_ca117, diff_ca117, marks_ca117  = get_improvement(student_names_ca117, exam_weeks_ca117, grades_ca117)"
   ]
  },
  {
   "cell_type": "code",
   "execution_count": 24,
   "metadata": {},
   "outputs": [],
   "source": [
    "opt_dict_ca117 = {\n",
    "    'Opted-IN': data.CA117_2016_2017_STUDENTS_OPTED_IN,\n",
    "    'Opted-OUT': data.CA117_2016_2017_STUDENTS_OPTED_OUT,\n",
    "}"
   ]
  },
  {
   "cell_type": "code",
   "execution_count": 25,
   "metadata": {},
   "outputs": [],
   "source": [
    "fix_dict_ca117 = {\n",
    "    'Fixed': data.CA117_2016_2017_STUDENTS_FIXED_ANY_PROGRAM,\n",
    "    'Did-not-fix': data.CA117_2016_2017_STUDENTS_DID_NOT_FIX,\n",
    "}"
   ]
  },
  {
   "cell_type": "code",
   "execution_count": 26,
   "metadata": {},
   "outputs": [],
   "source": [
    "THRESHOLD = 40\n",
    "\n",
    "def get_pass_fail_cohorts(student_names, exam_weeks, grades):\n",
    "\n",
    "    passing, failing = [], []\n",
    "    \n",
    "    first_exam = exam_weeks[0]\n",
    "\n",
    "    for student_name in student_names:\n",
    "\n",
    "        grade = 0\n",
    "        grade_index = grades[(grades['user'] == student_name) &\n",
    "                             (grades['exam_week'] == first_exam)].index\n",
    "        if len(grade_index) > 0:\n",
    "            grade = df_grades.iloc[grade_index[0]]['grade']\n",
    "\n",
    "        if grade >= THRESHOLD:\n",
    "            passing.append(student_name)\n",
    "        else:\n",
    "            failing.append(student_name)\n",
    "\n",
    "    return passing, failing"
   ]
  },
  {
   "cell_type": "code",
   "execution_count": 27,
   "metadata": {},
   "outputs": [],
   "source": [
    "passing_ca117, failing_ca117 = get_pass_fail_cohorts(student_names_ca117, exam_weeks_ca117, grades_ca117)"
   ]
  },
  {
   "cell_type": "code",
   "execution_count": 28,
   "metadata": {},
   "outputs": [],
   "source": [
    "pass_fail_dict_ca117 = {\n",
    "    'Pass': passing_ca117,\n",
    "    'Fail': failing_ca117,\n",
    "}"
   ]
  },
  {
   "cell_type": "code",
   "execution_count": 29,
   "metadata": {},
   "outputs": [],
   "source": [
    "def evaluate(student_dict, normgi, diff, marks, exam_weeks):\n",
    "    \n",
    "    # Store improvements\n",
    "    d = {}\n",
    "    \n",
    "    for name, students in student_dict.items():\n",
    "        \n",
    "        num_students = len(students)\n",
    "        \n",
    "        print('Group: {} (# {})'.format(name, num_students))\n",
    "        \n",
    "        for exam_week in exam_weeks:\n",
    "            # Marks\n",
    "            mrks = [ value for student_name, value in marks[exam_week].items() if student_name in students ]    \n",
    "            # Avg\n",
    "            mrks_avg = np.mean(mrks)\n",
    "            # Std. deviation\n",
    "            mrks_std = np.std(mrks)\n",
    "            print('Marks Exam Week {}, Avg: {:.2f} ({:.2f})'.format(exam_week, mrks_avg, mrks_std))\n",
    "        \n",
    "        # Array of improvements\n",
    "        improvements = [ value for student_name, value in normgi.items() if student_name in students ]\n",
    "        d[name] = improvements\n",
    "        \n",
    "        # Avg\n",
    "        improv_avg = np.mean(improvements)\n",
    "        # Std. deviation\n",
    "        improv_std = np.std(improvements)\n",
    "        \n",
    "        # Differences\n",
    "        differences = [ value for student_name, value in diff.items() if student_name in students ]\n",
    "        \n",
    "        # Avg\n",
    "        diff_avg = np.mean(differences)\n",
    "        # Std. deviation\n",
    "        diff_std = np.std(differences)\n",
    "              \n",
    "        print('* Improvement Avg: {:.2f} ({:.2f}), Diff Avg: {:.2f} ({:.2f})'.format(\n",
    "            mrks_avg, mrks_std, improv_avg, improv_std, diff_avg, diff_std))\n",
    "        \n",
    "    # T-test\n",
    "    keys = list(student_dict.keys())\n",
    "    group_one = d[keys[0]]\n",
    "    group_two = d[keys[1]]\n",
    "    ttest = ttest_ind(group_one, group_two)\n",
    "    print(ttest)\n"
   ]
  },
  {
   "cell_type": "code",
   "execution_count": 30,
   "metadata": {},
   "outputs": [
    {
     "name": "stdout",
     "output_type": "stream",
     "text": [
      "Group: Pass (# 82)\n",
      "Marks Exam Week 6, Avg: 76.22 (21.70)\n",
      "Marks Exam Week 12, Avg: 47.85 (26.42)\n",
      "* Improvement Avg: 47.85 (26.42), Diff Avg: -0.38 (0.30)\n",
      "Group: Fail (# 58)\n",
      "Marks Exam Week 6, Avg: 8.62 (11.88)\n",
      "Marks Exam Week 12, Avg: 12.02 (14.64)\n",
      "* Improvement Avg: 12.02 (14.64), Diff Avg: 0.18 (0.53)\n",
      "Ttest_indResult(statistic=-7.90377188715549, pvalue=7.728688226495374e-13)\n"
     ]
    }
   ],
   "source": [
    "evaluate(pass_fail_dict_ca117, normgi_ca117, diff_ca117, marks_ca117, exam_weeks_ca117)"
   ]
  },
  {
   "cell_type": "code",
   "execution_count": 31,
   "metadata": {},
   "outputs": [
    {
     "name": "stdout",
     "output_type": "stream",
     "text": [
      "Group: Opted-IN (# 122)\n",
      "Marks Exam Week 6, Avg: 54.51 (36.36)\n",
      "Marks Exam Week 12, Avg: 37.75 (27.42)\n",
      "* Improvement Avg: 37.75 (27.42), Diff Avg: -0.15 (0.52)\n",
      "Group: Opted-OUT (# 11)\n",
      "Marks Exam Week 6, Avg: 52.27 (34.47)\n",
      "Marks Exam Week 12, Avg: 19.45 (17.07)\n",
      "* Improvement Avg: 19.45 (17.07), Diff Avg: -0.33 (0.68)\n",
      "Ttest_indResult(statistic=1.0651208342711622, pvalue=0.2887804940758073)\n"
     ]
    }
   ],
   "source": [
    "evaluate(opt_dict_ca117, normgi_ca117, diff_ca117, marks_ca117, exam_weeks_ca117)"
   ]
  },
  {
   "cell_type": "code",
   "execution_count": 32,
   "metadata": {},
   "outputs": [
    {
     "name": "stdout",
     "output_type": "stream",
     "text": [
      "Group: Fixed (# 16)\n",
      "Marks Exam Week 6, Avg: 32.81 (39.25)\n",
      "Marks Exam Week 12, Avg: 27.62 (25.45)\n",
      "* Improvement Avg: 27.62 (25.45), Diff Avg: 0.23 (0.68)\n",
      "Group: Did-not-fix (# 53)\n",
      "Marks Exam Week 6, Avg: 45.19 (31.79)\n",
      "Marks Exam Week 12, Avg: 34.42 (27.46)\n",
      "* Improvement Avg: 34.42 (27.46), Diff Avg: -0.14 (0.45)\n",
      "Ttest_indResult(statistic=2.5215273559147287, pvalue=0.01410673108419503)\n"
     ]
    }
   ],
   "source": [
    "evaluate(fix_dict_ca117, normgi_ca117, diff_ca117, marks_ca117, exam_weeks_ca117)"
   ]
  },
  {
   "cell_type": "code",
   "execution_count": 33,
   "metadata": {},
   "outputs": [],
   "source": [
    "df_students_ca117 = pd.read_csv('../data/students-ca117-2017.csv')"
   ]
  },
  {
   "cell_type": "code",
   "execution_count": 34,
   "metadata": {},
   "outputs": [],
   "source": [
    "def compare_characteristics(dic, df_students):\n",
    "\n",
    "    for option in dic:\n",
    "        \n",
    "        # Students\n",
    "        student_names = dic[option]\n",
    "        \n",
    "        # Group\n",
    "        df_group = df_students[df_students['Username'].isin(student_names)]\n",
    "\n",
    "        # Age\n",
    "        age_mean = np.mean(df_group['Age'])\n",
    "        \n",
    "        # CAO Points\n",
    "        points = df_group[df_group['Route'] == 'Leaving Cert.']['CAO Points']\n",
    "        cao_mean = np.mean(points)\n",
    "        \n",
    "        print('{} - # students: {}, Age: {:.2f}, CAO ({}): {:.2f}'.format(\n",
    "            option, len(df_group), age_mean, len(points), cao_mean))"
   ]
  },
  {
   "cell_type": "code",
   "execution_count": 35,
   "metadata": {},
   "outputs": [
    {
     "name": "stdout",
     "output_type": "stream",
     "text": [
      "Pass - # students: 81, Age: 18.88, CAO (62): 438.79\n",
      "Fail - # students: 56, Age: 18.75, CAO (41): 399.15\n"
     ]
    }
   ],
   "source": [
    "compare_characteristics(pass_fail_dict_ca117, df_students_ca117)"
   ]
  },
  {
   "cell_type": "code",
   "execution_count": 36,
   "metadata": {},
   "outputs": [
    {
     "name": "stdout",
     "output_type": "stream",
     "text": [
      "Opted-IN - # students: 119, Age: 18.82, CAO (91): 427.25\n",
      "Opted-OUT - # students: 11, Age: 18.82, CAO (9): 446.67\n"
     ]
    }
   ],
   "source": [
    "compare_characteristics(opt_dict_ca117, df_students_ca117)"
   ]
  },
  {
   "cell_type": "code",
   "execution_count": 37,
   "metadata": {},
   "outputs": [
    {
     "name": "stdout",
     "output_type": "stream",
     "text": [
      "Fixed - # students: 16, Age: 18.62, CAO (12): 438.75\n",
      "Did-not-fix - # students: 51, Age: 18.53, CAO (38): 398.16\n"
     ]
    }
   ],
   "source": [
    "compare_characteristics(fix_dict_ca117, df_students_ca117)"
   ]
  },
  {
   "cell_type": "markdown",
   "metadata": {},
   "source": [
    "## Course: CA114, Academic year: 2016/2017"
   ]
  },
  {
   "cell_type": "code",
   "execution_count": 38,
   "metadata": {},
   "outputs": [],
   "source": [
    "_course = 'ca114'"
   ]
  },
  {
   "cell_type": "code",
   "execution_count": 39,
   "metadata": {},
   "outputs": [],
   "source": [
    "_academic_year = (2016, 2017)"
   ]
  },
  {
   "cell_type": "code",
   "execution_count": 40,
   "metadata": {},
   "outputs": [],
   "source": [
    "grades_ca114 = df_grades.iloc[get_grades(_course, _academic_year)]"
   ]
  },
  {
   "cell_type": "code",
   "execution_count": 41,
   "metadata": {},
   "outputs": [
    {
     "data": {
      "text/plain": [
       "136"
      ]
     },
     "execution_count": 41,
     "metadata": {},
     "output_type": "execute_result"
    }
   ],
   "source": [
    "len(grades_ca114)"
   ]
  },
  {
   "cell_type": "code",
   "execution_count": 42,
   "metadata": {},
   "outputs": [],
   "source": [
    "student_names_ca114 = grades_ca114.user.unique()"
   ]
  },
  {
   "cell_type": "code",
   "execution_count": 43,
   "metadata": {},
   "outputs": [
    {
     "data": {
      "text/plain": [
       "73"
      ]
     },
     "execution_count": 43,
     "metadata": {},
     "output_type": "execute_result"
    }
   ],
   "source": [
    "len(student_names_ca114)"
   ]
  },
  {
   "cell_type": "code",
   "execution_count": 44,
   "metadata": {},
   "outputs": [],
   "source": [
    "exam_weeks_ca114 = sorted(grades_ca114.exam_week.unique())"
   ]
  },
  {
   "cell_type": "code",
   "execution_count": 45,
   "metadata": {},
   "outputs": [
    {
     "data": {
      "text/plain": [
       "[6, 12]"
      ]
     },
     "execution_count": 45,
     "metadata": {},
     "output_type": "execute_result"
    }
   ],
   "source": [
    "exam_weeks_ca114"
   ]
  },
  {
   "cell_type": "code",
   "execution_count": 46,
   "metadata": {},
   "outputs": [],
   "source": [
    "normgi_ca114, diff_ca114, marks_ca114 = get_improvement(student_names_ca114, exam_weeks_ca114, grades_ca114)"
   ]
  },
  {
   "cell_type": "code",
   "execution_count": 47,
   "metadata": {},
   "outputs": [],
   "source": [
    "opt_dict_ca114 = {\n",
    "    'Opted-IN': data.CA114_2016_2017_STUDENTS_OPTED_IN,\n",
    "    'Opted-OUT': data.CA114_2016_2017_STUDENTS_OPTED_OUT,\n",
    "}"
   ]
  },
  {
   "cell_type": "code",
   "execution_count": 48,
   "metadata": {},
   "outputs": [],
   "source": [
    "fix_dict_ca114 = {\n",
    "    'Fixed': data.CA114_2016_2017_STUDENTS_FIXED_ANY_PROGRAM,\n",
    "    'Did-not-fix': data.CA114_2016_2017_STUDENTS_DID_NOT_FIX,\n",
    "}"
   ]
  },
  {
   "cell_type": "code",
   "execution_count": 49,
   "metadata": {},
   "outputs": [],
   "source": [
    "passing_ca114, failing_ca114 = get_pass_fail_cohorts(student_names_ca114, exam_weeks_ca114, grades_ca114)"
   ]
  },
  {
   "cell_type": "code",
   "execution_count": 50,
   "metadata": {},
   "outputs": [],
   "source": [
    "pass_fail_dict_ca114 = {\n",
    "    'Pass': passing_ca114,\n",
    "    'Fail': failing_ca114,\n",
    "}"
   ]
  },
  {
   "cell_type": "code",
   "execution_count": 51,
   "metadata": {},
   "outputs": [
    {
     "name": "stdout",
     "output_type": "stream",
     "text": [
      "Group: Pass (# 57)\n",
      "Marks Exam Week 6, Avg: 72.81 (18.90)\n",
      "Marks Exam Week 12, Avg: 55.44 (29.02)\n",
      "* Improvement Avg: 55.44 (29.02), Diff Avg: -0.20 (0.46)\n",
      "Group: Fail (# 16)\n",
      "Marks Exam Week 6, Avg: 17.19 (11.59)\n",
      "Marks Exam Week 12, Avg: 40.00 (29.15)\n",
      "* Improvement Avg: 40.00 (29.15), Diff Avg: 0.35 (0.69)\n",
      "Ttest_indResult(statistic=-3.7003152473786365, pvalue=0.0004216005544580895)\n"
     ]
    }
   ],
   "source": [
    "evaluate(pass_fail_dict_ca114, normgi_ca114, diff_ca114, marks_ca114, exam_weeks_ca114)"
   ]
  },
  {
   "cell_type": "code",
   "execution_count": 52,
   "metadata": {},
   "outputs": [
    {
     "name": "stdout",
     "output_type": "stream",
     "text": [
      "Group: Opted-IN (# 63)\n",
      "Marks Exam Week 6, Avg: 62.10 (28.31)\n",
      "Marks Exam Week 12, Avg: 53.23 (29.17)\n",
      "* Improvement Avg: 53.23 (29.17), Diff Avg: -0.11 (0.54)\n",
      "Group: Opted-OUT (# 8)\n",
      "Marks Exam Week 6, Avg: 57.14 (25.75)\n",
      "Marks Exam Week 12, Avg: 42.86 (32.83)\n",
      "* Improvement Avg: 42.86 (32.83), Diff Avg: -0.07 (0.74)\n",
      "Ttest_indResult(statistic=-0.17503206243472802, pvalue=0.861582316613892)\n"
     ]
    }
   ],
   "source": [
    "evaluate(opt_dict_ca114, normgi_ca114, diff_ca114, marks_ca114, exam_weeks_ca114)"
   ]
  },
  {
   "cell_type": "code",
   "execution_count": 53,
   "metadata": {},
   "outputs": [
    {
     "name": "stdout",
     "output_type": "stream",
     "text": [
      "Group: Fixed (# 18)\n",
      "Marks Exam Week 6, Avg: 62.50 (29.17)\n",
      "Marks Exam Week 12, Avg: 56.67 (28.48)\n",
      "* Improvement Avg: 56.67 (28.48), Diff Avg: -0.03 (0.51)\n",
      "Group: Did-not-fix (# 35)\n",
      "Marks Exam Week 6, Avg: 61.03 (22.84)\n",
      "Marks Exam Week 12, Avg: 50.59 (29.99)\n",
      "* Improvement Avg: 50.59 (29.99), Diff Avg: -0.15 (0.54)\n",
      "Ttest_indResult(statistic=0.7505532156603627, pvalue=0.45643930507821384)\n"
     ]
    }
   ],
   "source": [
    "evaluate(fix_dict_ca114, normgi_ca114, diff_ca114, marks_ca114, exam_weeks_ca114)"
   ]
  },
  {
   "cell_type": "code",
   "execution_count": 54,
   "metadata": {},
   "outputs": [],
   "source": [
    "df_students_ca114 = pd.read_csv('../data/students-ca114-2017.csv')"
   ]
  },
  {
   "cell_type": "code",
   "execution_count": 55,
   "metadata": {
    "scrolled": false
   },
   "outputs": [
    {
     "name": "stdout",
     "output_type": "stream",
     "text": [
      "Pass - # students: 56, Age: 18.34, CAO (47): 410.32\n",
      "Fail - # students: 16, Age: 18.25, CAO (14): 396.79\n"
     ]
    }
   ],
   "source": [
    "compare_characteristics(pass_fail_dict_ca114, df_students_ca114)"
   ]
  },
  {
   "cell_type": "code",
   "execution_count": 56,
   "metadata": {},
   "outputs": [
    {
     "name": "stdout",
     "output_type": "stream",
     "text": [
      "Opted-IN - # students: 62, Age: 18.31, CAO (51): 401.37\n",
      "Opted-OUT - # students: 7, Age: 18.14, CAO (7): 457.14\n"
     ]
    }
   ],
   "source": [
    "compare_characteristics(opt_dict_ca114, df_students_ca114)"
   ]
  },
  {
   "cell_type": "code",
   "execution_count": 57,
   "metadata": {
    "scrolled": true
   },
   "outputs": [
    {
     "name": "stdout",
     "output_type": "stream",
     "text": [
      "Fixed - # students: 18, Age: 18.44, CAO (13): 415.00\n",
      "Did-not-fix - # students: 34, Age: 18.15, CAO (29): 405.86\n"
     ]
    }
   ],
   "source": [
    "compare_characteristics(fix_dict_ca114, df_students_ca114)"
   ]
  },
  {
   "cell_type": "markdown",
   "metadata": {},
   "source": [
    "## Course: CA278, Academic year: 2016/2017"
   ]
  },
  {
   "cell_type": "code",
   "execution_count": 58,
   "metadata": {},
   "outputs": [],
   "source": [
    "_course = 'ca278'"
   ]
  },
  {
   "cell_type": "code",
   "execution_count": 59,
   "metadata": {},
   "outputs": [],
   "source": [
    "_academic_year = (2016, 2017)"
   ]
  },
  {
   "cell_type": "code",
   "execution_count": 60,
   "metadata": {},
   "outputs": [],
   "source": [
    "grades_ca278 = df_grades.iloc[get_grades(_course, _academic_year)]"
   ]
  },
  {
   "cell_type": "code",
   "execution_count": 61,
   "metadata": {
    "scrolled": true
   },
   "outputs": [
    {
     "data": {
      "text/plain": [
       "114"
      ]
     },
     "execution_count": 61,
     "metadata": {},
     "output_type": "execute_result"
    }
   ],
   "source": [
    "len(grades_ca278)"
   ]
  },
  {
   "cell_type": "code",
   "execution_count": 62,
   "metadata": {},
   "outputs": [],
   "source": [
    "student_names_ca278 = grades_ca278.user.unique()"
   ]
  },
  {
   "cell_type": "code",
   "execution_count": 63,
   "metadata": {},
   "outputs": [
    {
     "data": {
      "text/plain": [
       "58"
      ]
     },
     "execution_count": 63,
     "metadata": {},
     "output_type": "execute_result"
    }
   ],
   "source": [
    "len(student_names_ca278)"
   ]
  },
  {
   "cell_type": "code",
   "execution_count": 64,
   "metadata": {},
   "outputs": [],
   "source": [
    "exam_weeks_ca278 = sorted(grades_ca278.exam_week.unique())"
   ]
  },
  {
   "cell_type": "code",
   "execution_count": 65,
   "metadata": {},
   "outputs": [
    {
     "data": {
      "text/plain": [
       "[6, 12]"
      ]
     },
     "execution_count": 65,
     "metadata": {},
     "output_type": "execute_result"
    }
   ],
   "source": [
    "exam_weeks_ca278"
   ]
  },
  {
   "cell_type": "code",
   "execution_count": 66,
   "metadata": {},
   "outputs": [],
   "source": [
    "normgi_ca278, diff_ca278, marks_ca278 = get_improvement(student_names_ca278, exam_weeks_ca278, grades_ca278)"
   ]
  },
  {
   "cell_type": "code",
   "execution_count": 67,
   "metadata": {},
   "outputs": [],
   "source": [
    "opt_dict_ca278 = {\n",
    "    'Opted-IN': data.CA278_2016_2017_STUDENTS_OPTED_IN,\n",
    "    'Opted-OUT': data.CA278_2016_2017_STUDENTS_OPTED_OUT,\n",
    "}"
   ]
  },
  {
   "cell_type": "code",
   "execution_count": 68,
   "metadata": {},
   "outputs": [],
   "source": [
    "fix_dict_ca278 = {\n",
    "    'Fixed': data.CA278_2016_2017_STUDENTS_FIXED_ANY_PROGRAM,\n",
    "    'Did-not-fix': data.CA278_2016_2017_STUDENTS_DID_NOT_FIX,\n",
    "}"
   ]
  },
  {
   "cell_type": "code",
   "execution_count": 69,
   "metadata": {},
   "outputs": [],
   "source": [
    "passing_ca278, failing_ca278 = get_pass_fail_cohorts(student_names_ca278, exam_weeks_ca278, grades_ca278)"
   ]
  },
  {
   "cell_type": "code",
   "execution_count": 70,
   "metadata": {},
   "outputs": [],
   "source": [
    "pass_fail_dict_ca278 = {\n",
    "    'Pass': passing_ca278,\n",
    "    'Fail': failing_ca278,\n",
    "}"
   ]
  },
  {
   "cell_type": "code",
   "execution_count": 71,
   "metadata": {
    "scrolled": false
   },
   "outputs": [
    {
     "name": "stdout",
     "output_type": "stream",
     "text": [
      "Group: Pass (# 53)\n",
      "Marks Exam Week 6, Avg: 62.57 (17.65)\n",
      "Marks Exam Week 12, Avg: 73.91 (17.44)\n",
      "* Improvement Avg: 73.91 (17.44), Diff Avg: 0.23 (0.36)\n",
      "Group: Fail (# 5)\n",
      "Marks Exam Week 6, Avg: 15.80 (12.94)\n",
      "Marks Exam Week 12, Avg: 64.80 (8.13)\n",
      "* Improvement Avg: 64.80 (8.13), Diff Avg: 0.96 (0.09)\n",
      "Ttest_indResult(statistic=-4.365674244611575, pvalue=5.517289121006426e-05)\n"
     ]
    }
   ],
   "source": [
    "evaluate(pass_fail_dict_ca278, normgi_ca278, diff_ca278, marks_ca278, exam_weeks_ca278)"
   ]
  },
  {
   "cell_type": "code",
   "execution_count": 72,
   "metadata": {
    "scrolled": true
   },
   "outputs": [
    {
     "name": "stdout",
     "output_type": "stream",
     "text": [
      "Group: Opted-IN (# 42)\n",
      "Marks Exam Week 6, Avg: 60.88 (23.24)\n",
      "Marks Exam Week 12, Avg: 76.45 (14.91)\n",
      "* Improvement Avg: 76.45 (14.91), Diff Avg: 0.31 (0.41)\n",
      "Group: Opted-OUT (# 9)\n",
      "Marks Exam Week 6, Avg: 58.12 (19.81)\n",
      "Marks Exam Week 12, Avg: 71.38 (11.79)\n",
      "* Improvement Avg: 71.38 (11.79), Diff Avg: 0.32 (0.32)\n",
      "Ttest_indResult(statistic=-0.1107725427370544, pvalue=0.9122586020428451)\n"
     ]
    }
   ],
   "source": [
    "evaluate(opt_dict_ca278, normgi_ca278, diff_ca278, marks_ca278, exam_weeks_ca278)"
   ]
  },
  {
   "cell_type": "code",
   "execution_count": 73,
   "metadata": {
    "scrolled": true
   },
   "outputs": [
    {
     "name": "stdout",
     "output_type": "stream",
     "text": [
      "Group: Fixed (# 7)\n",
      "Marks Exam Week 6, Avg: 53.57 (27.49)\n",
      "Marks Exam Week 12, Avg: 73.00 (14.90)\n",
      "* Improvement Avg: 73.00 (14.90), Diff Avg: 0.41 (0.50)\n",
      "Group: Did-not-fix (# 28)\n",
      "Marks Exam Week 6, Avg: 58.25 (20.88)\n",
      "Marks Exam Week 12, Avg: 73.93 (14.90)\n",
      "* Improvement Avg: 73.93 (14.90), Diff Avg: 0.30 (0.39)\n",
      "Ttest_indResult(statistic=0.6341914555286028, pvalue=0.5303279257047521)\n"
     ]
    }
   ],
   "source": [
    "evaluate(fix_dict_ca278, normgi_ca278, diff_ca278, marks_ca278, exam_weeks_ca278)"
   ]
  },
  {
   "cell_type": "code",
   "execution_count": 74,
   "metadata": {},
   "outputs": [],
   "source": [
    "df_students_ca278 = pd.read_csv('../data/students-ca278-2017.csv')"
   ]
  },
  {
   "cell_type": "code",
   "execution_count": 75,
   "metadata": {
    "scrolled": true
   },
   "outputs": [
    {
     "name": "stdout",
     "output_type": "stream",
     "text": [
      "Pass - # students: 52, Age: 18.13, CAO (42): 411.79\n",
      "Fail - # students: 5, Age: 18.00, CAO (5): 404.00\n"
     ]
    }
   ],
   "source": [
    "compare_characteristics(pass_fail_dict_ca278, df_students_ca278)"
   ]
  },
  {
   "cell_type": "code",
   "execution_count": 76,
   "metadata": {
    "scrolled": true
   },
   "outputs": [
    {
     "name": "stdout",
     "output_type": "stream",
     "text": [
      "Opted-IN - # students: 41, Age: 18.24, CAO (36): 414.17\n",
      "Opted-OUT - # students: 9, Age: 17.78, CAO (6): 393.33\n"
     ]
    }
   ],
   "source": [
    "compare_characteristics(opt_dict_ca278, df_students_ca278)"
   ]
  },
  {
   "cell_type": "code",
   "execution_count": 77,
   "metadata": {
    "scrolled": false
   },
   "outputs": [
    {
     "name": "stdout",
     "output_type": "stream",
     "text": [
      "Fixed - # students: 7, Age: 18.29, CAO (4): 450.00\n",
      "Did-not-fix - # students: 27, Age: 18.30, CAO (25): 403.20\n"
     ]
    }
   ],
   "source": [
    "compare_characteristics(fix_dict_ca278, df_students_ca278)"
   ]
  },
  {
   "cell_type": "markdown",
   "metadata": {},
   "source": [
    "## Course: CA116, Academic year: 2016/2017"
   ]
  },
  {
   "cell_type": "code",
   "execution_count": 78,
   "metadata": {},
   "outputs": [],
   "source": [
    "_course = 'ca116'"
   ]
  },
  {
   "cell_type": "code",
   "execution_count": 79,
   "metadata": {},
   "outputs": [],
   "source": [
    "_academic_year = (2016, 2017)"
   ]
  },
  {
   "cell_type": "code",
   "execution_count": 80,
   "metadata": {},
   "outputs": [],
   "source": [
    "grades_ca116 = df_grades.iloc[get_grades(_course, _academic_year)]"
   ]
  },
  {
   "cell_type": "code",
   "execution_count": 81,
   "metadata": {},
   "outputs": [
    {
     "data": {
      "text/plain": [
       "327"
      ]
     },
     "execution_count": 81,
     "metadata": {},
     "output_type": "execute_result"
    }
   ],
   "source": [
    "len(grades_ca116)"
   ]
  },
  {
   "cell_type": "code",
   "execution_count": 82,
   "metadata": {},
   "outputs": [],
   "source": [
    "student_names_ca116 = grades_ca116.user.unique()"
   ]
  },
  {
   "cell_type": "code",
   "execution_count": 83,
   "metadata": {},
   "outputs": [
    {
     "data": {
      "text/plain": [
       "126"
      ]
     },
     "execution_count": 83,
     "metadata": {},
     "output_type": "execute_result"
    }
   ],
   "source": [
    "len(student_names_ca116)"
   ]
  },
  {
   "cell_type": "code",
   "execution_count": 84,
   "metadata": {},
   "outputs": [],
   "source": [
    "exam_weeks_ca116 = sorted(grades_ca116.exam_week.unique())"
   ]
  },
  {
   "cell_type": "code",
   "execution_count": 85,
   "metadata": {},
   "outputs": [
    {
     "data": {
      "text/plain": [
       "[4, 8, 12]"
      ]
     },
     "execution_count": 85,
     "metadata": {},
     "output_type": "execute_result"
    }
   ],
   "source": [
    "exam_weeks_ca116"
   ]
  },
  {
   "cell_type": "code",
   "execution_count": 86,
   "metadata": {
    "scrolled": false
   },
   "outputs": [],
   "source": [
    "normgi_ca116, diff_ca116, marks_ca116 = get_improvement(student_names_ca116, exam_weeks_ca116, grades_ca116)"
   ]
  },
  {
   "cell_type": "code",
   "execution_count": 87,
   "metadata": {},
   "outputs": [],
   "source": [
    "passing_ca116, failing_ca116 = get_pass_fail_cohorts(student_names_ca116, exam_weeks_ca116, grades_ca116)"
   ]
  },
  {
   "cell_type": "code",
   "execution_count": 88,
   "metadata": {},
   "outputs": [],
   "source": [
    "pass_fail_dict_ca116 = {\n",
    "    'Pass': passing_ca116,\n",
    "    'Fail': failing_ca116,\n",
    "}"
   ]
  },
  {
   "cell_type": "code",
   "execution_count": 89,
   "metadata": {},
   "outputs": [
    {
     "name": "stdout",
     "output_type": "stream",
     "text": [
      "Group: Pass (# 102)\n",
      "Marks Exam Week 4, Avg: 86.27 (20.90)\n",
      "Marks Exam Week 8, Avg: 47.11 (36.64)\n",
      "Marks Exam Week 12, Avg: 47.10 (35.57)\n",
      "* Improvement Avg: 47.10 (35.57), Diff Avg: 0.11 (0.57)\n",
      "Group: Fail (# 24)\n",
      "Marks Exam Week 4, Avg: 9.38 (12.10)\n",
      "Marks Exam Week 8, Avg: 22.08 (16.89)\n",
      "Marks Exam Week 12, Avg: 23.29 (20.62)\n",
      "* Improvement Avg: 23.29 (20.62), Diff Avg: 0.03 (0.76)\n",
      "Ttest_indResult(statistic=0.5625437082255612, pvalue=0.5747612370979556)\n"
     ]
    }
   ],
   "source": [
    "evaluate(pass_fail_dict_ca116, normgi_ca116, diff_ca116, marks_ca116, exam_weeks_ca116)"
   ]
  },
  {
   "cell_type": "code",
   "execution_count": 90,
   "metadata": {},
   "outputs": [],
   "source": [
    "df_students_ca116 = pd.read_csv('../data/students-ca116-2017.csv')"
   ]
  },
  {
   "cell_type": "code",
   "execution_count": 91,
   "metadata": {},
   "outputs": [
    {
     "name": "stdout",
     "output_type": "stream",
     "text": [
      "Pass - # students: 99, Age: 18.89, CAO (75): 427.73\n",
      "Fail - # students: 22, Age: 18.64, CAO (17): 402.35\n"
     ]
    }
   ],
   "source": [
    "compare_characteristics(pass_fail_dict_ca116, df_students_ca116)"
   ]
  }
 ],
 "metadata": {
  "kernelspec": {
   "display_name": "Python 3",
   "language": "python",
   "name": "python3"
  },
  "language_info": {
   "codemirror_mode": {
    "name": "ipython",
    "version": 3
   },
   "file_extension": ".py",
   "mimetype": "text/x-python",
   "name": "python",
   "nbconvert_exporter": "python",
   "pygments_lexer": "ipython3",
   "version": "3.6.5"
  }
 },
 "nbformat": 4,
 "nbformat_minor": 2
}
